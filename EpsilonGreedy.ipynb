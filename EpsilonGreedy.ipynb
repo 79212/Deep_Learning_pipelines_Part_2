{
 "cells": [
  {
   "cell_type": "markdown",
   "metadata": {},
   "source": [
    "# Epsilon Greedy Reinforcement Learning Algorithms"
   ]
  },
  {
   "cell_type": "markdown",
   "metadata": {},
   "source": [
    "This lab was created for the IBM Reinforcement Learning meetup to demonstrate Epsilon Greedy Algorithms on a variant of the Multi Arm Bandits or Multi Arm Lever Problem. In this problem you are faced with k levers or actions that you can take and each action will give a reward based on a normal distribution that is fixed. The agent will try different action untill it finds the lever that results in the greatest expected reward.\n",
    "\n",
    "In this variation we have boxes with balls that have values on it corresponding to the reward gained from picking from that box. With each action you pick a ball from the box based on a binomial distribution. Our agent is trying to find the box that has the highest average reward."
   ]
  },
  {
   "cell_type": "code",
   "execution_count": null,
   "metadata": {},
   "outputs": [],
   "source": [
    "!pip install tqdm"
   ]
  },
  {
   "cell_type": "code",
   "execution_count": null,
   "metadata": {},
   "outputs": [],
   "source": [
    "import numpy as np\n",
    "import matplotlib.pyplot as plt\n",
    "%matplotlib inline\n",
    "# this library provides a progress bar\n",
    "from tqdm import tqdm"
   ]
  },
  {
   "cell_type": "code",
   "execution_count": null,
   "metadata": {},
   "outputs": [],
   "source": [
    "# if the progress bar starts printing a new line run this to fix it\n",
    "tqdm._instances.clear()"
   ]
  },
  {
   "cell_type": "markdown",
   "metadata": {},
   "source": [
    "## Box"
   ]
  },
  {
   "cell_type": "markdown",
   "metadata": {},
   "source": [
    "The Box object represents the box that we will pull balls out of. You need to provide a list of 2 int which represent the values that are in the box. For example Box([0,10]) is a box with balls of value 0 and 10. We will use the binomial distribution to select balls. Do not worry too much about the binomial distribution as it is just a method of randomizing our selection process."
   ]
  },
  {
   "cell_type": "code",
   "execution_count": null,
   "metadata": {},
   "outputs": [],
   "source": [
    "class Box:\n",
    "    # creates a single box based on a binomial distribution\n",
    "    def __init__(self, value):\n",
    "        # creates the balls in the box\n",
    "        self.values = value\n",
    "        # holds the average or true value of the box\n",
    "        # according to our binomial distribution we select value[0] 90% of the time and value[1] 10% of the time\n",
    "        self.average = value[0] * .9 + value[1] * .1\n",
    "    \n",
    "    # picks a random ball from a box using the binomial distribution\n",
    "    def step(self):\n",
    "        reward = self.values[int(np.random.binomial(1, .1, 1))]\n",
    "        return reward\n",
    "    \n",
    "    # string representation of a box\n",
    "    def __str__(self):\n",
    "        return str(self.values) + str(self.average)"
   ]
  },
  {
   "cell_type": "markdown",
   "metadata": {},
   "source": [
    "## Agent"
   ]
  },
  {
   "cell_type": "markdown",
   "metadata": {},
   "source": [
    "This Agent object represents the decision maker that will pick a box to select a ball from. You need to provide the boxes and the epsilon value indicating how much to explore."
   ]
  },
  {
   "cell_type": "code",
   "execution_count": null,
   "metadata": {},
   "outputs": [],
   "source": [
    "class Agent:\n",
    "    # creates a single agents with a list of boxes to chose from and a epsilon value\n",
    "    def __init__(self, boxes, epsilon):\n",
    "        # saves the list of boxes\n",
    "        self.boxes = boxes\n",
    "        # the agents estimate for each box\n",
    "        self.estimates = np.zeros(len(boxes))\n",
    "        # the number of times the agent has selected that box\n",
    "        self.estimations = np.zeros(len(boxes))\n",
    "        # list to store the actions\n",
    "        self.actions = []\n",
    "        # list to store the rewards the agent recieved\n",
    "        self.rewards = []\n",
    "        # epsilon value of the agent\n",
    "        self.epsilon = epsilon\n",
    "        \n",
    "    # give a box an estimate value initial value\n",
    "    def initial_start(self, box, initial_value):\n",
    "        self.estimates[box] = initial_value\n",
    "    \n",
    "    # create multiple agents given a list of boxes and epsilon values\n",
    "    @staticmethod\n",
    "    def create_agents(box, epsilon):\n",
    "        agents = []\n",
    "        for e in epsilon:\n",
    "            agents.append(Agent(box, e))\n",
    "        return agents\n",
    "     \n",
    "    # performs a number of selections given the number of steps\n",
    "    def step(self, steps=1):\n",
    "        for step in range(steps):\n",
    "            # gets a number between 0 and 1 representing a percentage\n",
    "            random_prob = np.random.random()\n",
    "            # if the random number is less than epsilon then we chose a random box\n",
    "            if (random_prob < self.epsilon):\n",
    "                action = np.random.choice(len(self.boxes))\n",
    "            # if it is not then we pick the box that has the largest estimate\n",
    "            else:\n",
    "                action = np.argmax(self.estimates)\n",
    "            \n",
    "            # record the action\n",
    "            self.actions.append(action)\n",
    "            \n",
    "            # gets the reward chosen from the box\n",
    "            reward = self.boxes[action].step()\n",
    "            \n",
    "            # updates the amount of times that box was chosen\n",
    "            self.estimations[action] += 1\n",
    "            \n",
    "            # updates the estimates using an incremental update\n",
    "            self.estimates[action] = self.estimates[action] + (1/self.estimations[action]) * (reward - self.estimates[action])\n",
    "            \n",
    "            # records the reward\n",
    "            self.rewards.append(reward)\n",
    "        \n",
    "        # retuns the list of actions and rewards\n",
    "        return self.rewards, self.actions\n",
    "            \n",
    "    # function to run an experiment comparing agents\n",
    "    @staticmethod\n",
    "    def experiment(box, epsilon, number_runs, steps, labels):\n",
    "        # creates array to record rewards of each agent\n",
    "        rewards = np.zeros((len(epsilon), steps))\n",
    "        # runs the experiment a certain number of times\n",
    "        # we run this multiple times and average because we are dealing with random probability so our result graph would look very erratic if we didnt\n",
    "        for run in tqdm(range(number_runs)):\n",
    "            # creates agents given the boxes created before and a list of epsilon values\n",
    "            agents = Agent.create_agents(box, epsilon)\n",
    "            # loops through each agent\n",
    "            for agent_num, agent in enumerate(agents):\n",
    "                # picks from the boxes a certain amount of times \n",
    "                rew, act = agent.step(steps)\n",
    "                # records the rewards\n",
    "                rewards[agent_num] = rewards[agent_num] + rew\n",
    "        \n",
    "        # averages the rewards\n",
    "        rewards = rewards/number_runs\n",
    "        \n",
    "        # creates graph\n",
    "        for label, reward in zip(labels, rewards):\n",
    "            plt.plot(reward,label=label)\n",
    "        plt.legend()\n",
    "        plt.show()\n",
    "    \n",
    "    # string representation of the box\n",
    "    def __str__(self):\n",
    "        representation = ''\n",
    "        for box in self.boxes:\n",
    "            representation += 'Box ' + str(box.values) + ' Average ' + str(box.average)+ '\\n'\n",
    "        representation += 'Estimate ' + str(self.estimates)\n",
    "        return representation"
   ]
  },
  {
   "cell_type": "markdown",
   "metadata": {},
   "source": [
    "## Experiment"
   ]
  },
  {
   "cell_type": "markdown",
   "metadata": {},
   "source": [
    "Now we are going to create an experiment comparing epsilon greedy algorithms with different exploration chances. First we start by creating the boxes."
   ]
  },
  {
   "cell_type": "code",
   "execution_count": null,
   "metadata": {},
   "outputs": [],
   "source": [
    "box1 = Box([0,10])\n",
    "box2 = Box([4,8])\n",
    "box3 = Box([5,5])\n",
    "print('Box1 Average',box1.average)\n",
    "print('Box2 Average',box2.average)\n",
    "print('Box3 Average',box3.average)"
   ]
  },
  {
   "cell_type": "markdown",
   "metadata": {},
   "source": [
    "Now we use the experiment method of the Agent class to run our experiment. We will use agents with epsilon values of 0%, 1%, and 10%. We want each agent to make 2000 selections and we also want to run the experiment 2000 times and average the results. We do this because we are dealing with probability so if we dont average our graph will look erratic.\n",
    "\n",
    "As you can see below the agent with a 10% exploration rate will increase quicker than any other agent because it is exploring more so in the beginning it can learn more about the boxes and find out which one is best. The agent with 1% exploration will increase slower because it is exploring less, but notice how at some point it intersects the 10% exploration agent and performs better than it. This is because when we have found the best box the 10% agent is picking randomly 10% of the time not the best box compared to the 1% agent. So in the long run the 1% agent proforms slightly better because it always picking the best box 99% of the time compared to 90%. The agent that does not explore at all always picks the box that has the highest estimate so it picked the first box and stuck with it.\n",
    "\n",
    "As we can see above the agent has found the best box which is box3 with an average of 5 and our average reward in the long run is very close to 5."
   ]
  },
  {
   "cell_type": "code",
   "execution_count": 5,
   "metadata": {},
   "outputs": [
    {
     "name": "stderr",
     "output_type": "stream",
     "text": [
      "100%|██████████| 2000/2000 [02:02<00:00, 16.38it/s]\n"
     ]
    },
    {
     "data": {
      "image/png": "[encoded data removed]",
      "text/plain": [
       "<Figure size 432x288 with 1 Axes>"
      ]
     },
     "metadata": {
      "needs_background": "light"
     },
     "output_type": "display_data"
    }
   ],
   "source": [
    "Agent.experiment([box1,box2,box3], [0,.01,.10], 2000, 2000, ['0.00', '0.01','0.10'])"
   ]
  },
  {
   "cell_type": "markdown",
   "metadata": {},
   "source": [
    "When we run the same experiment averaging over 100 times we can see that the reward graph is erratic and not as clear as when we run 2000 times."
   ]
  },
  {
   "cell_type": "code",
   "execution_count": 19,
   "metadata": {},
   "outputs": [
    {
     "name": "stderr",
     "output_type": "stream",
     "text": [
      "100%|██████████| 100/100 [00:06<00:00, 16.24it/s]\n"
     ]
    },
    {
     "data": {
      "image/png": "[encoded data removed]",
      "text/plain": [
       "<Figure size 432x288 with 1 Axes>"
      ]
     },
     "metadata": {
      "needs_background": "light"
     },
     "output_type": "display_data"
    }
   ],
   "source": [
    "Agent.experiment([box1,box2,box3], [0,.01,.10], 100, 2000, ['0.00', '0.01','0.10'])"
   ]
  },
  {
   "cell_type": "markdown",
   "metadata": {},
   "source": [
    "Created By: Azim Hirjani"
   ]
  }
 ],
 "metadata": {
  "kernelspec": {
   "display_name": "Python 3",
   "language": "python",
   "name": "python3"
  },
  "language_info": {
   "codemirror_mode": {
    "name": "ipython",
    "version": 3
   },
   "file_extension": ".py",
   "mimetype": "text/x-python",
   "name": "python",
   "nbconvert_exporter": "python",
   "pygments_lexer": "ipython3",
   "version": "3.6.8"
  }
 },
 "nbformat": 4,
 "nbformat_minor": 4
}
